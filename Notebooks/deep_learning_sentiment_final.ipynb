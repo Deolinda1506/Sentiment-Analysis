{
 "cells": [
  {
   "cell_type": "markdown",
   "id": "c60fcc31",
   "metadata": {},
   "source": [
    "# Sentiment Analysis with Deep Learning\n",
    "\n",
    "This notebook develops a sentiment classification system on the Twitter dataset.\n",
    "We focus on deep learning models (BiLSTM, CNN, Dense with TF-IDF) and compare results.\n",
    "The notebook also includes exploratory data analysis (EDA), preprocessing, training, evaluation, and experiments."
   ]
  },
  {
   "cell_type": "code",
   "execution_count": 1,
   "id": "a534c5e4",
   "metadata": {},
   "outputs": [
    {
     "name": "stderr",
     "output_type": "stream",
     "text": [
      "[nltk_data] Downloading package stopwords to\n",
      "[nltk_data]     C:\\Users\\TestSolutions\\AppData\\Roaming\\nltk_data...\n",
      "[nltk_data]   Package stopwords is already up-to-date!\n"
     ]
    },
    {
     "data": {
      "application/vnd.microsoft.datawrangler.viewer.v0+json": {
       "columns": [
        {
         "name": "index",
         "rawType": "int64",
         "type": "integer"
        },
        {
         "name": "id",
         "rawType": "int64",
         "type": "integer"
        },
        {
         "name": "entity",
         "rawType": "object",
         "type": "string"
        },
        {
         "name": "sentiment",
         "rawType": "object",
         "type": "string"
        },
        {
         "name": "text",
         "rawType": "object",
         "type": "string"
        }
       ],
       "ref": "127e00d1-adc1-4718-b0a6-cc531233dd48",
       "rows": [
        [
         "0",
         "2401",
         "Borderlands",
         "Positive",
         "im getting on borderlands and i will murder you all ,"
        ],
        [
         "1",
         "2401",
         "Borderlands",
         "Positive",
         "I am coming to the borders and I will kill you all,"
        ],
        [
         "2",
         "2401",
         "Borderlands",
         "Positive",
         "im getting on borderlands and i will kill you all,"
        ],
        [
         "3",
         "2401",
         "Borderlands",
         "Positive",
         "im coming on borderlands and i will murder you all,"
        ],
        [
         "4",
         "2401",
         "Borderlands",
         "Positive",
         "im getting on borderlands 2 and i will murder you me all,"
        ]
       ],
       "shape": {
        "columns": 4,
        "rows": 5
       }
      },
      "text/html": [
       "<div>\n",
       "<style scoped>\n",
       "    .dataframe tbody tr th:only-of-type {\n",
       "        vertical-align: middle;\n",
       "    }\n",
       "\n",
       "    .dataframe tbody tr th {\n",
       "        vertical-align: top;\n",
       "    }\n",
       "\n",
       "    .dataframe thead th {\n",
       "        text-align: right;\n",
       "    }\n",
       "</style>\n",
       "<table border=\"1\" class=\"dataframe\">\n",
       "  <thead>\n",
       "    <tr style=\"text-align: right;\">\n",
       "      <th></th>\n",
       "      <th>id</th>\n",
       "      <th>entity</th>\n",
       "      <th>sentiment</th>\n",
       "      <th>text</th>\n",
       "    </tr>\n",
       "  </thead>\n",
       "  <tbody>\n",
       "    <tr>\n",
       "      <th>0</th>\n",
       "      <td>2401</td>\n",
       "      <td>Borderlands</td>\n",
       "      <td>Positive</td>\n",
       "      <td>im getting on borderlands and i will murder yo...</td>\n",
       "    </tr>\n",
       "    <tr>\n",
       "      <th>1</th>\n",
       "      <td>2401</td>\n",
       "      <td>Borderlands</td>\n",
       "      <td>Positive</td>\n",
       "      <td>I am coming to the borders and I will kill you...</td>\n",
       "    </tr>\n",
       "    <tr>\n",
       "      <th>2</th>\n",
       "      <td>2401</td>\n",
       "      <td>Borderlands</td>\n",
       "      <td>Positive</td>\n",
       "      <td>im getting on borderlands and i will kill you ...</td>\n",
       "    </tr>\n",
       "    <tr>\n",
       "      <th>3</th>\n",
       "      <td>2401</td>\n",
       "      <td>Borderlands</td>\n",
       "      <td>Positive</td>\n",
       "      <td>im coming on borderlands and i will murder you...</td>\n",
       "    </tr>\n",
       "    <tr>\n",
       "      <th>4</th>\n",
       "      <td>2401</td>\n",
       "      <td>Borderlands</td>\n",
       "      <td>Positive</td>\n",
       "      <td>im getting on borderlands 2 and i will murder ...</td>\n",
       "    </tr>\n",
       "  </tbody>\n",
       "</table>\n",
       "</div>"
      ],
      "text/plain": [
       "     id       entity sentiment  \\\n",
       "0  2401  Borderlands  Positive   \n",
       "1  2401  Borderlands  Positive   \n",
       "2  2401  Borderlands  Positive   \n",
       "3  2401  Borderlands  Positive   \n",
       "4  2401  Borderlands  Positive   \n",
       "\n",
       "                                                text  \n",
       "0  im getting on borderlands and i will murder yo...  \n",
       "1  I am coming to the borders and I will kill you...  \n",
       "2  im getting on borderlands and i will kill you ...  \n",
       "3  im coming on borderlands and i will murder you...  \n",
       "4  im getting on borderlands 2 and i will murder ...  "
      ]
     },
     "execution_count": 1,
     "metadata": {},
     "output_type": "execute_result"
    }
   ],
   "source": [
    "import pandas as pd\n",
    "import numpy as np\n",
    "import matplotlib.pyplot as plt\n",
    "import seaborn as sns\n",
    "import re\n",
    "import nltk\n",
    "from nltk.corpus import stopwords\n",
    "\n",
    "nltk.download('stopwords')\n",
    "\n",
    "# Paths (update if necessary)\n",
    "TRAIN_PATH = '../Datasets/twitter_training.csv'\n",
    "VAL_PATH = '../Datasets/twitter_validation.csv'\n",
    "\n",
    "# Load data (no headers in CSV)\n",
    "cols = [\"id\", \"entity\", \"sentiment\", \"text\"]\n",
    "train_df = pd.read_csv(TRAIN_PATH, header=None, names=cols)\n",
    "val_df = pd.read_csv(VAL_PATH, header=None, names=cols)\n",
    "\n",
    "train_df.head()"
   ]
  },
  {
   "cell_type": "markdown",
   "id": "38b0a2fd",
   "metadata": {},
   "source": [
    "## Exploratory Data Analysis (EDA)\n",
    "We first inspect class distribution, text lengths, and most frequent words to understand the dataset."
   ]
  },
  {
   "cell_type": "code",
   "execution_count": 2,
   "id": "045af4b5",
   "metadata": {},
   "outputs": [
    {
     "data": {
      "image/png": "[encoded data removed]",
      "text/plain": [
       "<Figure size 600x400 with 1 Axes>"
      ]
     },
     "metadata": {},
     "output_type": "display_data"
    },
    {
     "data": {
      "image/png": "[encoded data removed]",
      "text/plain": [
       "<Figure size 600x400 with 1 Axes>"
      ]
     },
     "metadata": {},
     "output_type": "display_data"
    },
    {
     "data": {
      "application/vnd.microsoft.datawrangler.viewer.v0+json": {
       "columns": [
        {
         "name": "index",
         "rawType": "int64",
         "type": "integer"
        },
        {
         "name": "word",
         "rawType": "object",
         "type": "string"
        },
        {
         "name": "count",
         "rawType": "int64",
         "type": "integer"
        }
       ],
       "ref": "91731b43-6ce4-4267-9630-3a63325bceb3",
       "rows": [
        [
         "0",
         "the",
         "44099"
        ],
        [
         "1",
         "i",
         "28916"
        ],
        [
         "2",
         "to",
         "28652"
        ],
        [
         "3",
         "and",
         "26322"
        ],
        [
         "4",
         "a",
         "23925"
        ],
        [
         "5",
         "of",
         "19307"
        ],
        [
         "6",
         "is",
         "17453"
        ],
        [
         "7",
         "for",
         "15410"
        ],
        [
         "8",
         "in",
         "15046"
        ],
        [
         "9",
         "/",
         "14655"
        ],
        [
         "10",
         "this",
         "13708"
        ],
        [
         "11",
         "my",
         "11767"
        ],
        [
         "12",
         "on",
         "11592"
        ],
        [
         "13",
         "it",
         "11413"
        ],
        [
         "14",
         "you",
         "11273"
        ],
        [
         "15",
         "@",
         "11081"
        ],
        [
         "16",
         ".",
         "10201"
        ],
        [
         "17",
         "that",
         "9705"
        ],
        [
         "18",
         "with",
         "8714"
        ],
        [
         "19",
         "so",
         "7593"
        ]
       ],
       "shape": {
        "columns": 2,
        "rows": 20
       }
      },
      "text/html": [
       "<div>\n",
       "<style scoped>\n",
       "    .dataframe tbody tr th:only-of-type {\n",
       "        vertical-align: middle;\n",
       "    }\n",
       "\n",
       "    .dataframe tbody tr th {\n",
       "        vertical-align: top;\n",
       "    }\n",
       "\n",
       "    .dataframe thead th {\n",
       "        text-align: right;\n",
       "    }\n",
       "</style>\n",
       "<table border=\"1\" class=\"dataframe\">\n",
       "  <thead>\n",
       "    <tr style=\"text-align: right;\">\n",
       "      <th></th>\n",
       "      <th>word</th>\n",
       "      <th>count</th>\n",
       "    </tr>\n",
       "  </thead>\n",
       "  <tbody>\n",
       "    <tr>\n",
       "      <th>0</th>\n",
       "      <td>the</td>\n",
       "      <td>44099</td>\n",
       "    </tr>\n",
       "    <tr>\n",
       "      <th>1</th>\n",
       "      <td>i</td>\n",
       "      <td>28916</td>\n",
       "    </tr>\n",
       "    <tr>\n",
       "      <th>2</th>\n",
       "      <td>to</td>\n",
       "      <td>28652</td>\n",
       "    </tr>\n",
       "    <tr>\n",
       "      <th>3</th>\n",
       "      <td>and</td>\n",
       "      <td>26322</td>\n",
       "    </tr>\n",
       "    <tr>\n",
       "      <th>4</th>\n",
       "      <td>a</td>\n",
       "      <td>23925</td>\n",
       "    </tr>\n",
       "    <tr>\n",
       "      <th>5</th>\n",
       "      <td>of</td>\n",
       "      <td>19307</td>\n",
       "    </tr>\n",
       "    <tr>\n",
       "      <th>6</th>\n",
       "      <td>is</td>\n",
       "      <td>17453</td>\n",
       "    </tr>\n",
       "    <tr>\n",
       "      <th>7</th>\n",
       "      <td>for</td>\n",
       "      <td>15410</td>\n",
       "    </tr>\n",
       "    <tr>\n",
       "      <th>8</th>\n",
       "      <td>in</td>\n",
       "      <td>15046</td>\n",
       "    </tr>\n",
       "    <tr>\n",
       "      <th>9</th>\n",
       "      <td>/</td>\n",
       "      <td>14655</td>\n",
       "    </tr>\n",
       "    <tr>\n",
       "      <th>10</th>\n",
       "      <td>this</td>\n",
       "      <td>13708</td>\n",
       "    </tr>\n",
       "    <tr>\n",
       "      <th>11</th>\n",
       "      <td>my</td>\n",
       "      <td>11767</td>\n",
       "    </tr>\n",
       "    <tr>\n",
       "      <th>12</th>\n",
       "      <td>on</td>\n",
       "      <td>11592</td>\n",
       "    </tr>\n",
       "    <tr>\n",
       "      <th>13</th>\n",
       "      <td>it</td>\n",
       "      <td>11413</td>\n",
       "    </tr>\n",
       "    <tr>\n",
       "      <th>14</th>\n",
       "      <td>you</td>\n",
       "      <td>11273</td>\n",
       "    </tr>\n",
       "    <tr>\n",
       "      <th>15</th>\n",
       "      <td>@</td>\n",
       "      <td>11081</td>\n",
       "    </tr>\n",
       "    <tr>\n",
       "      <th>16</th>\n",
       "      <td>.</td>\n",
       "      <td>10201</td>\n",
       "    </tr>\n",
       "    <tr>\n",
       "      <th>17</th>\n",
       "      <td>that</td>\n",
       "      <td>9705</td>\n",
       "    </tr>\n",
       "    <tr>\n",
       "      <th>18</th>\n",
       "      <td>with</td>\n",
       "      <td>8714</td>\n",
       "    </tr>\n",
       "    <tr>\n",
       "      <th>19</th>\n",
       "      <td>so</td>\n",
       "      <td>7593</td>\n",
       "    </tr>\n",
       "  </tbody>\n",
       "</table>\n",
       "</div>"
      ],
      "text/plain": [
       "    word  count\n",
       "0    the  44099\n",
       "1      i  28916\n",
       "2     to  28652\n",
       "3    and  26322\n",
       "4      a  23925\n",
       "5     of  19307\n",
       "6     is  17453\n",
       "7    for  15410\n",
       "8     in  15046\n",
       "9      /  14655\n",
       "10  this  13708\n",
       "11    my  11767\n",
       "12    on  11592\n",
       "13    it  11413\n",
       "14   you  11273\n",
       "15     @  11081\n",
       "16     .  10201\n",
       "17  that   9705\n",
       "18  with   8714\n",
       "19    so   7593"
      ]
     },
     "execution_count": 2,
     "metadata": {},
     "output_type": "execute_result"
    }
   ],
   "source": [
    "# Class distribution\n",
    "plt.figure(figsize=(6,4))\n",
    "sns.countplot(x=\"sentiment\", data=train_df, order=train_df['sentiment'].value_counts().index)\n",
    "plt.title(\"Class distribution (training set)\")\n",
    "plt.show()\n",
    "\n",
    "# Handle missing text values\n",
    "train_df[\"text\"] = train_df[\"text\"].fillna(\"\")\n",
    "\n",
    "# Text length distribution\n",
    "train_df[\"text_len\"] = train_df[\"text\"].astype(str).str.split().apply(len)\n",
    "plt.figure(figsize=(6,4))\n",
    "sns.histplot(train_df[\"text_len\"], bins=50, kde=False)\n",
    "plt.title(\"Distribution of text lengths\")\n",
    "plt.xlabel(\"Length (#words)\")\n",
    "plt.show()\n",
    "\n",
    "# Most frequent words (basic token split)\n",
    "from collections import Counter\n",
    "all_words = \" \".join(train_df[\"text\"].astype(str)).lower().split()\n",
    "word_freq = Counter(all_words)\n",
    "common_words = word_freq.most_common(20)\n",
    "pd.DataFrame(common_words, columns=[\"word\",\"count\"])\n"
   ]
  },
  {
   "cell_type": "markdown",
   "id": "d69b7336",
   "metadata": {},
   "source": [
    "## Preprocessing\n",
    "Steps: lowercase, remove non-alphabetic chars, remove stopwords, tokenize, pad sequences.\n",
    "We also prepare TF-IDF features for comparison."
   ]
  },
  {
   "cell_type": "code",
   "execution_count": 3,
   "id": "fb7d07f5",
   "metadata": {},
   "outputs": [
    {
     "name": "stdout",
     "output_type": "stream",
     "text": [
      "Train sequences: (74682, 100) Val sequences: (1000, 100)\n",
      "TF-IDF: (74682, 10000)\n"
     ]
    }
   ],
   "source": [
    "from sklearn.model_selection import train_test_split\n",
    "from sklearn.feature_extraction.text import TfidfVectorizer\n",
    "from tensorflow.keras.preprocessing.text import Tokenizer\n",
    "from tensorflow.keras.preprocessing.sequence import pad_sequences\n",
    "\n",
    "stop_words = set(stopwords.words(\"english\"))\n",
    "\n",
    "def clean_text(text):\n",
    "    text = str(text).lower()\n",
    "    text = re.sub(r'[^a-z\\s]', '', text)\n",
    "    tokens = [w for w in text.split() if w not in stop_words]\n",
    "    return \" \".join(tokens)\n",
    "\n",
    "train_df[\"clean_text\"] = train_df[\"text\"].apply(clean_text)\n",
    "val_df[\"clean_text\"] = val_df[\"text\"].apply(clean_text)\n",
    "\n",
    "# Encode labels\n",
    "from sklearn.preprocessing import LabelEncoder\n",
    "le = LabelEncoder()\n",
    "y_train = le.fit_transform(train_df[\"sentiment\"])\n",
    "y_val = le.transform(val_df[\"sentiment\"])\n",
    "\n",
    "# TF-IDF features\n",
    "tfidf = TfidfVectorizer(max_features=10000)\n",
    "X_train_tfidf = tfidf.fit_transform(train_df[\"clean_text\"]).toarray()\n",
    "X_val_tfidf = tfidf.transform(val_df[\"clean_text\"]).toarray()\n",
    "\n",
    "# Tokenizer for sequences\n",
    "MAX_NUM_WORDS = 20000\n",
    "MAX_SEQ_LEN = 100\n",
    "\n",
    "tokenizer = Tokenizer(num_words=MAX_NUM_WORDS)\n",
    "tokenizer.fit_on_texts(train_df[\"clean_text\"])\n",
    "X_train_seq = pad_sequences(tokenizer.texts_to_sequences(train_df[\"clean_text\"]), maxlen=MAX_SEQ_LEN)\n",
    "X_val_seq = pad_sequences(tokenizer.texts_to_sequences(val_df[\"clean_text\"]), maxlen=MAX_SEQ_LEN)\n",
    "word_index = tokenizer.word_index\n",
    "\n",
    "print(\"Train sequences:\", X_train_seq.shape, \"Val sequences:\", X_val_seq.shape)\n",
    "print(\"TF-IDF:\", X_train_tfidf.shape)"
   ]
  },
  {
   "cell_type": "markdown",
   "id": "64264b89",
   "metadata": {},
   "source": [
    "## Deep Learning Models\n",
    "We compare three models:\n",
    "- **BiLSTM** with embeddings\n",
    "- **CNN** with embeddings\n",
    "- **Dense NN** with TF-IDF inputs"
   ]
  },
  {
   "cell_type": "code",
   "execution_count": 4,
   "id": "026afbb6",
   "metadata": {},
   "outputs": [
    {
     "data": {
      "text/plain": [
       "{0: np.float64(1.4372979214780601),\n",
       " 1: np.float64(0.8282539260047911),\n",
       " 2: np.float64(1.0192433671798231),\n",
       " 3: np.float64(0.8962413594470046)}"
      ]
     },
     "execution_count": 4,
     "metadata": {},
     "output_type": "execute_result"
    }
   ],
   "source": [
    "import time\n",
    "import tensorflow as tf\n",
    "from tensorflow.keras.models import Sequential\n",
    "from tensorflow.keras.layers import Embedding, LSTM, Dense, Dropout, Bidirectional, Conv1D, MaxPooling1D, GlobalMaxPooling1D\n",
    "from tensorflow.keras.optimizers import Adam, RMSprop\n",
    "from tensorflow.keras.utils import to_categorical\n",
    "from sklearn.metrics import accuracy_score, f1_score, confusion_matrix\n",
    "from sklearn.utils.class_weight import compute_class_weight\n",
    "\n",
    "num_classes = len(np.unique(y_train))\n",
    "if num_classes == 2:\n",
    "    y_train_keras = y_train\n",
    "    y_val_keras = y_val\n",
    "    multiclass = False\n",
    "else:\n",
    "    y_train_keras = to_categorical(y_train, num_classes=num_classes)\n",
    "    y_val_keras = to_categorical(y_val, num_classes=num_classes)\n",
    "    multiclass = True\n",
    "\n",
    "# Compute class weights\n",
    "weights = compute_class_weight('balanced', classes=np.unique(y_train), y=y_train)\n",
    "class_weights = {i:w for i,w in enumerate(weights)}\n",
    "class_weights"
   ]
  },
  {
   "cell_type": "code",
   "execution_count": 5,
   "id": "df865853",
   "metadata": {},
   "outputs": [],
   "source": [
    "EMBED_DIM = 100\n",
    "\n",
    "def build_lstm_model(vocab_size):\n",
    "    model = Sequential([\n",
    "        Embedding(input_dim=vocab_size, output_dim=EMBED_DIM, input_length=MAX_SEQ_LEN),\n",
    "        Bidirectional(LSTM(64)),\n",
    "        Dropout(0.5),\n",
    "        Dense(64, activation=\"relu\"),\n",
    "        Dropout(0.3),\n",
    "        Dense(num_classes if multiclass else 1, activation=\"softmax\" if multiclass else \"sigmoid\")\n",
    "    ])\n",
    "    return model\n",
    "\n",
    "def build_cnn_model(vocab_size):\n",
    "    model = Sequential([\n",
    "        Embedding(input_dim=vocab_size, output_dim=EMBED_DIM, input_length=MAX_SEQ_LEN),\n",
    "        Conv1D(128, 5, activation=\"relu\"),\n",
    "        MaxPooling1D(5),\n",
    "        Conv1D(128, 5, activation=\"relu\"),\n",
    "        GlobalMaxPooling1D(),\n",
    "        Dense(64, activation=\"relu\"),\n",
    "        Dropout(0.5),\n",
    "        Dense(num_classes if multiclass else 1, activation=\"softmax\" if multiclass else \"sigmoid\")\n",
    "    ])\n",
    "    return model\n",
    "\n",
    "def build_dense_tfidf(input_dim):\n",
    "    model = Sequential([\n",
    "        Dense(512, activation=\"relu\", input_shape=(input_dim,)),\n",
    "        Dropout(0.5),\n",
    "        Dense(128, activation=\"relu\"),\n",
    "        Dropout(0.3),\n",
    "        Dense(num_classes if multiclass else 1, activation=\"softmax\" if multiclass else \"sigmoid\")\n",
    "    ])\n",
    "    return model"
   ]
  },
  {
   "cell_type": "code",
   "execution_count": 7,
   "id": "c2258bd4",
   "metadata": {},
   "outputs": [
    {
     "name": "stdout",
     "output_type": "stream",
     "text": [
      "\n",
      "Running {'model_type': 'lstm', 'lr': 0.001, 'batch_size': 64, 'optimizer': 'adam', 'epochs': 5}\n",
      "Epoch 1/5\n"
     ]
    },
    {
     "name": "stderr",
     "output_type": "stream",
     "text": [
      "c:\\Users\\TestSolutions\\Desktop\\Sentiment-Analysis\\venv\\Lib\\site-packages\\keras\\src\\layers\\core\\embedding.py:97: UserWarning: Argument `input_length` is deprecated. Just remove it.\n",
      "  warnings.warn(\n"
     ]
    },
    {
     "name": "stdout",
     "output_type": "stream",
     "text": [
      "\u001b[1m1167/1167\u001b[0m \u001b[32m━━━━━━━━━━━━━━━━━━━━\u001b[0m\u001b[37m\u001b[0m \u001b[1m57s\u001b[0m 46ms/step - accuracy: 0.6524 - loss: 0.8780 - val_accuracy: 0.8980 - val_loss: 0.3215\n",
      "Epoch 2/5\n",
      "\u001b[1m1167/1167\u001b[0m \u001b[32m━━━━━━━━━━━━━━━━━━━━\u001b[0m\u001b[37m\u001b[0m \u001b[1m71s\u001b[0m 61ms/step - accuracy: 0.8457 - loss: 0.4182 - val_accuracy: 0.9290 - val_loss: 0.2308\n",
      "Epoch 3/5\n",
      "\u001b[1m1167/1167\u001b[0m \u001b[32m━━━━━━━━━━━━━━━━━━━━\u001b[0m\u001b[37m\u001b[0m \u001b[1m70s\u001b[0m 60ms/step - accuracy: 0.8861 - loss: 0.3047 - val_accuracy: 0.9400 - val_loss: 0.2056\n",
      "Epoch 4/5\n",
      "\u001b[1m1167/1167\u001b[0m \u001b[32m━━━━━━━━━━━━━━━━━━━━\u001b[0m\u001b[37m\u001b[0m \u001b[1m70s\u001b[0m 60ms/step - accuracy: 0.9021 - loss: 0.2571 - val_accuracy: 0.9430 - val_loss: 0.2372\n",
      "Epoch 5/5\n",
      "\u001b[1m1167/1167\u001b[0m \u001b[32m━━━━━━━━━━━━━━━━━━━━\u001b[0m\u001b[37m\u001b[0m \u001b[1m71s\u001b[0m 61ms/step - accuracy: 0.9140 - loss: 0.2261 - val_accuracy: 0.9470 - val_loss: 0.2163\n",
      "\u001b[1m32/32\u001b[0m \u001b[32m━━━━━━━━━━━━━━━━━━━━\u001b[0m\u001b[37m\u001b[0m \u001b[1m1s\u001b[0m 21ms/step\n",
      "Acc: 0.947 F1: 0.9469885039145334\n",
      "\n",
      "Running {'model_type': 'cnn', 'lr': 0.001, 'batch_size': 64, 'optimizer': 'rmsprop', 'epochs': 5}\n",
      "Epoch 1/5\n"
     ]
    },
    {
     "name": "stderr",
     "output_type": "stream",
     "text": [
      "c:\\Users\\TestSolutions\\Desktop\\Sentiment-Analysis\\venv\\Lib\\site-packages\\keras\\src\\layers\\core\\embedding.py:97: UserWarning: Argument `input_length` is deprecated. Just remove it.\n",
      "  warnings.warn(\n"
     ]
    },
    {
     "name": "stdout",
     "output_type": "stream",
     "text": [
      "\u001b[1m1167/1167\u001b[0m \u001b[32m━━━━━━━━━━━━━━━━━━━━\u001b[0m\u001b[37m\u001b[0m \u001b[1m28s\u001b[0m 23ms/step - accuracy: 0.5442 - loss: 1.0721 - val_accuracy: 0.8120 - val_loss: 0.5715\n",
      "Epoch 2/5\n",
      "\u001b[1m1167/1167\u001b[0m \u001b[32m━━━━━━━━━━━━━━━━━━━━\u001b[0m\u001b[37m\u001b[0m \u001b[1m28s\u001b[0m 24ms/step - accuracy: 0.7837 - loss: 0.5900 - val_accuracy: 0.9130 - val_loss: 0.2784\n",
      "Epoch 3/5\n",
      "\u001b[1m1167/1167\u001b[0m \u001b[32m━━━━━━━━━━━━━━━━━━━━\u001b[0m\u001b[37m\u001b[0m \u001b[1m27s\u001b[0m 23ms/step - accuracy: 0.8631 - loss: 0.3640 - val_accuracy: 0.9250 - val_loss: 0.2614\n",
      "Epoch 4/5\n",
      "\u001b[1m1167/1167\u001b[0m \u001b[32m━━━━━━━━━━━━━━━━━━━━\u001b[0m\u001b[37m\u001b[0m \u001b[1m27s\u001b[0m 23ms/step - accuracy: 0.8940 - loss: 0.2748 - val_accuracy: 0.9280 - val_loss: 0.2890\n",
      "Epoch 5/5\n",
      "\u001b[1m1167/1167\u001b[0m \u001b[32m━━━━━━━━━━━━━━━━━━━━\u001b[0m\u001b[37m\u001b[0m \u001b[1m27s\u001b[0m 23ms/step - accuracy: 0.9067 - loss: 0.2362 - val_accuracy: 0.9320 - val_loss: 0.3108\n",
      "\u001b[1m32/32\u001b[0m \u001b[32m━━━━━━━━━━━━━━━━━━━━\u001b[0m\u001b[37m\u001b[0m \u001b[1m0s\u001b[0m 9ms/step\n",
      "Acc: 0.932 F1: 0.9321992509086995\n",
      "\n",
      "Running {'model_type': 'tfidf_dense', 'lr': 0.001, 'batch_size': 64, 'optimizer': 'adam', 'epochs': 5}\n"
     ]
    },
    {
     "name": "stderr",
     "output_type": "stream",
     "text": [
      "c:\\Users\\TestSolutions\\Desktop\\Sentiment-Analysis\\venv\\Lib\\site-packages\\keras\\src\\layers\\core\\dense.py:92: UserWarning: Do not pass an `input_shape`/`input_dim` argument to a layer. When using Sequential models, prefer using an `Input(shape)` object as the first layer in the model instead.\n",
      "  super().__init__(activity_regularizer=activity_regularizer, **kwargs)\n"
     ]
    },
    {
     "name": "stdout",
     "output_type": "stream",
     "text": [
      "Epoch 1/5\n",
      "\u001b[1m1167/1167\u001b[0m \u001b[32m━━━━━━━━━━━━━━━━━━━━\u001b[0m\u001b[37m\u001b[0m \u001b[1m46s\u001b[0m 34ms/step - accuracy: 0.4761 - loss: 1.1945 - val_accuracy: 0.6570 - val_loss: 0.8531\n",
      "Epoch 2/5\n",
      "\u001b[1m1167/1167\u001b[0m \u001b[32m━━━━━━━━━━━━━━━━━━━━\u001b[0m\u001b[37m\u001b[0m \u001b[1m34s\u001b[0m 29ms/step - accuracy: 0.6917 - loss: 0.7847 - val_accuracy: 0.8470 - val_loss: 0.4557\n",
      "Epoch 3/5\n",
      "\u001b[1m1167/1167\u001b[0m \u001b[32m━━━━━━━━━━━━━━━━━━━━\u001b[0m\u001b[37m\u001b[0m \u001b[1m35s\u001b[0m 30ms/step - accuracy: 0.8316 - loss: 0.4514 - val_accuracy: 0.9060 - val_loss: 0.2746\n",
      "Epoch 4/5\n",
      "\u001b[1m1167/1167\u001b[0m \u001b[32m━━━━━━━━━━━━━━━━━━━━\u001b[0m\u001b[37m\u001b[0m \u001b[1m37s\u001b[0m 32ms/step - accuracy: 0.8986 - loss: 0.2725 - val_accuracy: 0.9470 - val_loss: 0.1871\n",
      "Epoch 5/5\n",
      "\u001b[1m1167/1167\u001b[0m \u001b[32m━━━━━━━━━━━━━━━━━━━━\u001b[0m\u001b[37m\u001b[0m \u001b[1m40s\u001b[0m 34ms/step - accuracy: 0.9251 - loss: 0.1952 - val_accuracy: 0.9630 - val_loss: 0.1472\n",
      "\u001b[1m32/32\u001b[0m \u001b[32m━━━━━━━━━━━━━━━━━━━━\u001b[0m\u001b[37m\u001b[0m \u001b[1m0s\u001b[0m 11ms/step\n",
      "Acc: 0.963 F1: 0.9629889108507764\n"
     ]
    }
   ],
   "source": [
    "import os\n",
    "import pandas as pd\n",
    "import numpy as np\n",
    "import matplotlib.pyplot as plt\n",
    "import seaborn as sns\n",
    "from sklearn.metrics import accuracy_score, f1_score, confusion_matrix\n",
    "from tensorflow.keras.optimizers import Adam, RMSprop\n",
    "import tensorflow as tf\n",
    "\n",
    "# Create a directory for saving plots\n",
    "os.makedirs(\"plots\", exist_ok=True)\n",
    "\n",
    "experiment_grid = [\n",
    "    {\"model_type\":\"lstm\",\"lr\":1e-3,\"batch_size\":64,\"optimizer\":\"adam\",\"epochs\":5},\n",
    "    {\"model_type\":\"cnn\",\"lr\":1e-3,\"batch_size\":64,\"optimizer\":\"rmsprop\",\"epochs\":5},\n",
    "    {\"model_type\":\"tfidf_dense\",\"lr\":1e-3,\"batch_size\":64,\"optimizer\":\"adam\",\"epochs\":5}\n",
    "]\n",
    "\n",
    "def create_dataset(X, y, batch_size):\n",
    "    dataset = tf.data.Dataset.from_tensor_slices((X, y))\n",
    "    dataset = dataset.batch(batch_size).prefetch(tf.data.AUTOTUNE)\n",
    "    return dataset\n",
    "\n",
    "results = []\n",
    "vocab_size = min(MAX_NUM_WORDS, len(word_index)+1)\n",
    "\n",
    "for cfg in experiment_grid:\n",
    "    print(\"\\nRunning\", cfg)\n",
    "    if cfg[\"model_type\"]==\"lstm\":\n",
    "        model = build_lstm_model(vocab_size)\n",
    "        x_train, x_val = X_train_seq, X_val_seq\n",
    "    elif cfg[\"model_type\"]==\"cnn\":\n",
    "        model = build_cnn_model(vocab_size)\n",
    "        x_train, x_val = X_train_seq, X_val_seq\n",
    "    else:\n",
    "        model = build_dense_tfidf(X_train_tfidf.shape[1])\n",
    "        x_train, x_val = X_train_tfidf, X_val_tfidf\n",
    "\n",
    "    opt = Adam(learning_rate=cfg[\"lr\"]) if cfg[\"optimizer\"]==\"adam\" else RMSprop(learning_rate=cfg[\"lr\"])\n",
    "    loss = \"categorical_crossentropy\" if multiclass else \"binary_crossentropy\"\n",
    "    model.compile(optimizer=opt, loss=loss, metrics=[\"accuracy\"])\n",
    "\n",
    "    if cfg[\"model_type\"] == \"tfidf_dense\":\n",
    "        train_ds = create_dataset(x_train, y_train_keras, cfg[\"batch_size\"])\n",
    "        val_ds = create_dataset(x_val, y_val_keras, cfg[\"batch_size\"])\n",
    "        history = model.fit(train_ds, validation_data=val_ds,\n",
    "                            epochs=cfg[\"epochs\"], class_weight=class_weights, verbose=1)\n",
    "    else:\n",
    "        history = model.fit(x_train, y_train_keras,\n",
    "                            validation_data=(x_val, y_val_keras),\n",
    "                            epochs=cfg[\"epochs\"], batch_size=cfg[\"batch_size\"],\n",
    "                            class_weight=class_weights, verbose=1)\n",
    "\n",
    "    preds_proba = model.predict(x_val)\n",
    "    preds = np.argmax(preds_proba, axis=1) if multiclass else (preds_proba.squeeze()>0.5).astype(int)\n",
    "\n",
    "    acc = accuracy_score(y_val, preds)\n",
    "    f1 = f1_score(y_val, preds, average=\"weighted\" if multiclass else \"binary\")\n",
    "    cm = confusion_matrix(y_val, preds)\n",
    "    print(\"Acc:\", acc, \"F1:\", f1)\n",
    "\n",
    "    # Save confusion matrix as image\n",
    "    plt.figure(figsize=(8, 6))\n",
    "    sns.heatmap(cm, annot=True, fmt=\"d\", cmap=\"Blues\", xticklabels=le.classes_, yticklabels=le.classes_)\n",
    "    plt.title(f\"Confusion Matrix - {cfg['model_type'].upper()}\")\n",
    "    plt.xlabel(\"Predicted\")\n",
    "    plt.ylabel(\"True\")\n",
    "    plt.savefig(f\"plots/cm_{cfg['model_type']}.png\", bbox_inches=\"tight\", dpi=300)\n",
    "    plt.close()\n",
    "\n",
    "    results.append({**cfg, \"acc\": acc, \"f1\": f1, \"cm\": cm.tolist()})\n",
    "\n",
    "# Create and save results table\n",
    "results_df = pd.DataFrame(results)\n",
    "\n",
    "# Save as CSV\n",
    "results_df.to_csv(\"plots/results_table.csv\", index=False)\n",
    "\n",
    "# Save as image\n",
    "fig, ax = plt.subplots(figsize=(10, 2 + len(results) * 0.5))\n",
    "ax.axis(\"off\")\n",
    "table = ax.table(cellText=results_df.drop(columns=[\"cm\"]).values,  # Exclude cm for table\n",
    "                 colLabels=results_df.drop(columns=[\"cm\"]).columns,\n",
    "                 cellLoc=\"center\", loc=\"center\")\n",
    "table.auto_set_font_size(False)\n",
    "table.set_fontsize(10)\n",
    "table.scale(1.2, 1.2)\n",
    "plt.savefig(\"plots/results_table.png\", bbox_inches=\"tight\", dpi=300)\n",
    "plt.close()"
   ]
  },
  {
   "cell_type": "markdown",
   "id": "4cadf460",
   "metadata": {},
   "source": [
    "## Evaluation\n",
    "We report accuracy, F1-score, and confusion matrices for each model. Results are stored in the experiment table above."
   ]
  }
 ],
 "metadata": {
  "kernelspec": {
   "display_name": "venv",
   "language": "python",
   "name": "python3"
  },
  "language_info": {
   "codemirror_mode": {
    "name": "ipython",
    "version": 3
   },
   "file_extension": ".py",
   "mimetype": "text/x-python",
   "name": "python",
   "nbconvert_exporter": "python",
   "pygments_lexer": "ipython3",
   "version": "3.13.2"
  }
 },
 "nbformat": 4,
 "nbformat_minor": 5
}
